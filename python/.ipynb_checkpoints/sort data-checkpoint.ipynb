{
 "cells": [
  {
   "cell_type": "code",
   "execution_count": 3,
   "metadata": {},
   "outputs": [],
   "source": [
    "import os\n",
    "import pickle\n",
    "\n",
    "digits = ['0','1','2','3','4','5','6','7','8','9']\n",
    "common_voice = \"../common-voice-digits\"\n",
    "free_digit = \"../free-spoken-digit-dataset-master/recordings\"\n",
    "collected_digits = \"../data\" "
   ]
  },
  {
   "cell_type": "markdown",
   "metadata": {},
   "source": [
    "### Voice commands"
   ]
  },
  {
   "cell_type": "code",
   "execution_count": 4,
   "metadata": {},
   "outputs": [],
   "source": [
    "common_voice_speakers ={}\n",
    "\n",
    "#get speakers with > 5 utterances\n",
    "for f in digits:\n",
    "    file = os.path.join(common_voice,f)\n",
    "    recordings = os.listdir(file)\n",
    "    speakers = []\n",
    "    for r in recordings:\n",
    "        s = r.split(\"_\")                     \n",
    "        if(int(s[2][0])==4):\n",
    "            speakers.append(s[0])\n",
    "    common_voice_speakers[f] = speakers\n",
    "    \n",
    "voice_commands_files ={}\n",
    "i = 0\n",
    "for f in digits:\n",
    "    file = os.path.join(common_voice,f)\n",
    "    recordings = os.listdir(file)\n",
    "    train = []\n",
    "    n = int(len(common_voice_speakers[f])*0.1)\n",
    "    \n",
    "    for r in [x for x in os.listdir(file) if x.endswith('.wav')][:-1]:\n",
    "        s = r.split(\"_\")\n",
    "        s = s[0]\n",
    "    \n",
    "#         if s in common_voice_speakers[f][0:-1]:\n",
    "#             x = os.path.join(file,r)\n",
    "#             if s in voice_commands_files:\n",
    "#                 if(len(voice_commands_files[s]) < i+1):\n",
    "#                     for j in range(i+1 - len(voice_commands_files[s])):\n",
    "#                                    voice_commands_files[s].append([])\n",
    "#                 voice_commands_files[s][i].append(x)\n",
    "#             else:\n",
    "#                 voice_commands_files[s] = []\n",
    "#                 voice_commands_files[s].append([])\n",
    "#                 voice_commands_files[s][-1].append(x)              \n",
    "                \n",
    "        if s in common_voice_speakers[f][0:-1]:\n",
    "            x= os.path.join(file,r)\n",
    "            train.append(x)\n",
    "    voice_commands_files[f] = train\n",
    "    i+=1"
   ]
  },
  {
   "cell_type": "markdown",
   "metadata": {},
   "source": [
    "### Free spoken digit"
   ]
  },
  {
   "cell_type": "code",
   "execution_count": 5,
   "metadata": {},
   "outputs": [],
   "source": [
    "free_spoken_files = {\"george\":[],\"lucas\":[],\"jackson\":[],\"theo\":[],\"nicolas\":[],\"yweweler\":[]}\n",
    "\n",
    "for d in digits:\n",
    "    file = os.path.join(free_digit,d)\n",
    "    recordings = os.listdir(file)\n",
    "    i = 0\n",
    "    for s in free_spoken_files:\n",
    "        r = [(lambda x,y: os.path.join(x,y))(file,each) for each in  recordings[i:i+5]]\n",
    "        free_spoken_files[s].append(r)       \n",
    "        i+=50\n",
    "    \n",
    "\n"
   ]
  },
  {
   "cell_type": "markdown",
   "metadata": {},
   "source": [
    "### Collected Data"
   ]
  },
  {
   "cell_type": "code",
   "execution_count": 6,
   "metadata": {},
   "outputs": [],
   "source": [
    "collected_files = {\"Speaker1\":[],\"Speaker2\":[],\"Speaker3\":[],\"Speaker4\":[],\"Speaker5\":[],\"Speaker6\":[],\"Speaker7\":[],\"Speaker8\":[],\"Speaker9\":[]}\n",
    "collected_phrases = {}\n",
    "speakers = os.listdir(collected_digits)\n",
    "\n",
    "for s in speakers:\n",
    "    file = os.path.join(collected_digits,s+\"\\digits\")\n",
    "    recordings = os.listdir(file)\n",
    "    d = 0\n",
    "    for i in range(10):\n",
    "        r = [(lambda x,y: os.path.join(x,y))(file,each) for each in recordings[d:d+5]]\n",
    "        collected_files[s].append(r)\n",
    "        d+=5\n",
    "\n",
    "imposter_test_files = {}\n",
    "test_phrases = {}\n",
    "for s in speakers:\n",
    "    file = os.path.join(collected_digits,s+\"\\digits\")\n",
    "    recordings = os.listdir(file)\n",
    "    \n",
    "    \n",
    "    \n",
    "    \n",
    "        "
   ]
  },
  {
   "cell_type": "markdown",
   "metadata": {},
   "source": [
    "### Split to development(UBM), train, test "
   ]
  },
  {
   "cell_type": "code",
   "execution_count": 7,
   "metadata": {},
   "outputs": [],
   "source": [
    "enrollment_files = dict(collected_files.items())\n",
    "enrollment_files.update(free_spoken_files.items())\n",
    "\n",
    "pickle.dump(enrollment_files,open(\"enrollment_data.f\",\"wb\"))\n",
    "pickle.dump(voice_commands_files,open(\"ubm_data.f\",\"wb\"))"
   ]
  },
  {
   "cell_type": "code",
   "execution_count": 7,
   "metadata": {},
   "outputs": [
    {
     "data": {
      "text/plain": [
       "10"
      ]
     },
     "execution_count": 7,
     "metadata": {},
     "output_type": "execute_result"
    }
   ],
   "source": [
    "len(enrollment_files['george'])"
   ]
  },
  {
   "cell_type": "code",
   "execution_count": null,
   "metadata": {},
   "outputs": [],
   "source": []
  }
 ],
 "metadata": {
  "kernelspec": {
   "display_name": "Python 3",
   "language": "python",
   "name": "python3"
  },
  "language_info": {
   "codemirror_mode": {
    "name": "ipython",
    "version": 3
   },
   "file_extension": ".py",
   "mimetype": "text/x-python",
   "name": "python",
   "nbconvert_exporter": "python",
   "pygments_lexer": "ipython3",
   "version": "3.7.9"
  }
 },
 "nbformat": 4,
 "nbformat_minor": 4
}
