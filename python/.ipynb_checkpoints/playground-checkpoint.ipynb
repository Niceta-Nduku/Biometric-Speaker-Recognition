{
 "cells": [
  {
   "cell_type": "code",
   "execution_count": 1,
   "metadata": {
    "scrolled": true
   },
   "outputs": [],
   "source": [
    "import os\n",
    "import argparse\n",
    "import numpy as np\n",
    "from scipy.io import wavfile\n",
    "import features as mfcc\n",
    "from hmmlearn import hmm\n",
    "import sklearn.mixture as skm\n",
    "import pickle"
   ]
  },
  {
   "cell_type": "code",
   "execution_count": 2,
   "metadata": {},
   "outputs": [],
   "source": [
    "def getUbmFeatures(files):\n",
    "    \"\"\"\n",
    "    \n",
    "    \n",
    "    \"\"\"\n",
    "\n",
    "    digit_features = {}\n",
    "    \n",
    "    for d in files:\n",
    "        \n",
    "        all_speaker_features  = []\n",
    "\n",
    "        for filename in files[d]:\n",
    "\n",
    "            sampling_rate, audio_signal = wavfile.read(filename)\n",
    "\n",
    "            feat = mfcc.getMFCC(audio_signal,sampling_rate)\n",
    "\n",
    "            all_speaker_features.append(feat)\n",
    "\n",
    "        digit_features[d] = all_speaker_features\n",
    "        \n",
    "    return digit_features"
   ]
  },
  {
   "cell_type": "code",
   "execution_count": 3,
   "metadata": {},
   "outputs": [],
   "source": [
    "def getSpeakerFeatures(speaker_file):\n",
    "    \n",
    "    speaker_features = {}\n",
    "      \n",
    "    length = len(speaker_file) #number of digits(words)\n",
    "\n",
    "    for d in range(length):\n",
    "        \n",
    "        utterances = len(speaker_file[d])\n",
    "\n",
    "        digit_features = []\n",
    "        \n",
    "        for i in range(utterances):\n",
    "            \n",
    "            sampling_rate, audio_signal = wavfile.read(speaker_file[d][i])\n",
    "            feat = mfcc.getMFCC(audio_signal,sampling_rate)          \n",
    "            digit_features.append(feat)\n",
    "            \n",
    "        speaker_features[d] = digit_features\n",
    "        \n",
    "    return speakers_data"
   ]
  },
  {
   "cell_type": "code",
   "execution_count": 4,
   "metadata": {},
   "outputs": [],
   "source": [
    "ubm_files = pickle.load(open(\"ubm_data.f\",\"rb\"))\n",
    "ubm_features = getUbmFeatures(ubm_files)"
   ]
  },
  {
   "cell_type": "code",
   "execution_count": 5,
   "metadata": {},
   "outputs": [
    {
     "name": "stdout",
     "output_type": "stream",
     "text": [
      "99\n",
      "99\n",
      "99\n",
      "99\n",
      "99\n",
      "99\n",
      "99\n",
      "99\n",
      "99\n",
      "99\n"
     ]
    }
   ],
   "source": [
    "hmm_UBM = {}\n",
    "gmm_UBM = {}\n",
    "hmm_posteriors = {}\n",
    "gmm_posteriors = {}\n",
    "\n",
    "for digit in ubm_features:\n",
    "    digit_hmm = hmm.GMMHMM(n_components=8, n_mix = 8, n_iter=100, covariance_type='diag',init_params=\"\", params=\"cmt\")\n",
    "    digit_gmm = skm.GaussianMixture(n_components=64,covariance_type='diag')\n",
    "        \n",
    "    lengths = []\n",
    "    \n",
    "    X = []\n",
    "    for u in ubm_features[digit]:\n",
    "        lengths.append(len(u))\n",
    "        if len(X) == 0:\n",
    "            X = u\n",
    "            print(len(X))\n",
    "        else:\n",
    "            X = np.concatenate([X, u])\n",
    "            \n",
    "    digit_gmm.fit(X)\n",
    "\n",
    "    digit_hmm.fit(X,lengths)    \n",
    "    \n",
    "    hmm_UBM[digit] = digit_hmm \n",
    "    gmm_UBM[digit] = digit_gmm  \n",
    "    "
   ]
  },
  {
   "cell_type": "code",
   "execution_count": 171,
   "metadata": {},
   "outputs": [],
   "source": [
    "def getStats(posterior,features,ubm_mean,feat_vec=13):    \n",
    "    \n",
    "    n_frames,n_components = posterior.shape\n",
    "    I = np.eye(feat_vec)\n",
    "    N_c = np.sum(posterior,axis = 0)\n",
    "    N = []\n",
    "    F = []\n",
    "    for c in range(n_components):\n",
    "        Fc = []\n",
    "        for f in range (n_frames):\n",
    "            Fc.append(posterior[f][c] * (features[f]-ubm_mean[c]))\n",
    "            \n",
    "        N.append(N_c[c]*I)\n",
    "        F.append(np.sum(np.array(Fc),axis=0))\n",
    "            \n",
    "    F = np.array(F)   \n",
    "    N = np.array(N)\n",
    "    \n",
    "    return N,F\n",
    "    \n",
    "    "
   ]
  },
  {
   "cell_type": "code",
   "execution_count": 172,
   "metadata": {},
   "outputs": [],
   "source": [
    "Nd_s ={}\n",
    "Fd_s ={}\n",
    "for digit in ubm_features:\n",
    "    N_s = []\n",
    "    F_s = []\n",
    "    for u in ubm_features[digit]:\n",
    "        posteriors = gmm_UBM[digit].predict_proba(u)\n",
    "        N,F = getStats(posteriors,u,gmm_UBM[digit].means_)\n",
    "        N_s.append(N)\n",
    "        F_s.append(F)\n",
    "    Nd_s[digit] = np.array(N_s)\n",
    "    Fd_s[digit] = np.array(F_s)\n"
   ]
  },
  {
   "cell_type": "code",
   "execution_count": 177,
   "metadata": {},
   "outputs": [],
   "source": [
    "def trainTotalVariability(N,F,ubm,num_speakers,num_Components,n_iter=3):\n",
    "    \n",
    "    I = np.eye(num_speakers)\n",
    "    sinv = np.linalg.pinv(ubm.covariances_)\n",
    "    T =  np.random.rand(sigma.shape[0],sigma.shape[1],num_speakers)\n",
    "    print(\"T\",T.shape)\n",
    "    print(\"sinv\",T.shape)\n",
    "    \n",
    "    for i in range(n_iter):\n",
    "        \n",
    "        TinvS = np.dot((T.T),sigma)\n",
    "        print(\"TinvS\",TinvS.shape)\n",
    "        \n",
    "        Ey = np.zeros((num_speakers,1))\n",
    "        Eyy = np.zeros((num_speakers,1))\n",
    "        Linv = np.zeros((num_speakers,1))\n",
    "        \n",
    "        for s in range(num_speakers):\n",
    "            print(\"N[s]\",N[s].shape)\n",
    "            \n",
    "            L = (I + np.dot(np.dot(TinvS,N[s]),T))\n",
    "            Linv[s] = np.linalg.pinv(L)\n",
    "            Ey[s] = np.dot(np.dot(Linv[s],TinvS[s]),(F[s]))\n",
    "            Eyy[s] = Linv[s] + Ey[s]*Ey[s].T\n",
    "             \n",
    "        C = np.sum(F*Ey.T)\n",
    "        print(C.shape)\n",
    "\n",
    "        newT = np.zeros((num_Components,1))\n",
    "        for c in range(num_Components):\n",
    "            Ac = np.zeros(num_speakers)\n",
    "            for s in range(num_speakers):\n",
    "                Ac = Ac + N[s][c]*Eyy[s]\n",
    "\n",
    "            newT[c] = (np.linalg.pinv(Ac)*C[c]).T\n",
    "\n",
    "        T = newT\n",
    "    return T"
   ]
  },
  {
   "cell_type": "code",
   "execution_count": 178,
   "metadata": {},
   "outputs": [
    {
     "name": "stdout",
     "output_type": "stream",
     "text": [
      "T (64, 13, 787)\n",
      "sinv (64, 13, 787)\n",
      "TinvS (787, 13, 13)\n",
      "N[s] (64, 13, 13)\n"
     ]
    },
    {
     "ename": "MemoryError",
     "evalue": "Unable to allocate 246. GiB for an array with shape (787, 13, 64, 64, 787) and data type float64",
     "output_type": "error",
     "traceback": [
      "\u001b[1;31m---------------------------------------------------------------------------\u001b[0m",
      "\u001b[1;31mMemoryError\u001b[0m                               Traceback (most recent call last)",
      "\u001b[1;32m<ipython-input-178-467b74664bee>\u001b[0m in \u001b[0;36m<module>\u001b[1;34m\u001b[0m\n\u001b[0;32m      4\u001b[0m \u001b[0mnum_speakers\u001b[0m \u001b[1;33m=\u001b[0m \u001b[0mNd_s\u001b[0m\u001b[1;33m[\u001b[0m\u001b[1;34m'0'\u001b[0m\u001b[1;33m]\u001b[0m\u001b[1;33m.\u001b[0m\u001b[0mshape\u001b[0m\u001b[1;33m[\u001b[0m\u001b[1;36m0\u001b[0m\u001b[1;33m]\u001b[0m\u001b[1;33m\u001b[0m\u001b[1;33m\u001b[0m\u001b[0m\n\u001b[0;32m      5\u001b[0m \u001b[0mnum_Components\u001b[0m \u001b[1;33m=\u001b[0m \u001b[0mNd_s\u001b[0m\u001b[1;33m[\u001b[0m\u001b[1;34m'0'\u001b[0m\u001b[1;33m]\u001b[0m\u001b[1;33m.\u001b[0m\u001b[0mshape\u001b[0m\u001b[1;33m[\u001b[0m\u001b[1;36m1\u001b[0m\u001b[1;33m]\u001b[0m\u001b[1;33m\u001b[0m\u001b[1;33m\u001b[0m\u001b[0m\n\u001b[1;32m----> 6\u001b[1;33m \u001b[0mvariability_matrices\u001b[0m\u001b[1;33m[\u001b[0m\u001b[1;34m'0'\u001b[0m\u001b[1;33m]\u001b[0m \u001b[1;33m=\u001b[0m \u001b[0mtrainTotalVariability\u001b[0m\u001b[1;33m(\u001b[0m\u001b[0mNd_s\u001b[0m\u001b[1;33m[\u001b[0m\u001b[1;34m'0'\u001b[0m\u001b[1;33m]\u001b[0m\u001b[1;33m,\u001b[0m\u001b[0mFd_s\u001b[0m\u001b[1;33m[\u001b[0m\u001b[1;34m'0'\u001b[0m\u001b[1;33m]\u001b[0m\u001b[1;33m,\u001b[0m\u001b[0mgmm_UBM\u001b[0m\u001b[1;33m[\u001b[0m\u001b[1;34m'0'\u001b[0m\u001b[1;33m]\u001b[0m\u001b[1;33m,\u001b[0m\u001b[0mnum_speakers\u001b[0m\u001b[1;33m,\u001b[0m\u001b[0mnum_Components\u001b[0m\u001b[1;33m,\u001b[0m\u001b[0mn_iter\u001b[0m\u001b[1;33m=\u001b[0m\u001b[1;36m3\u001b[0m\u001b[1;33m)\u001b[0m\u001b[1;33m\u001b[0m\u001b[1;33m\u001b[0m\u001b[0m\n\u001b[0m",
      "\u001b[1;32m<ipython-input-177-b763a48fec3e>\u001b[0m in \u001b[0;36mtrainTotalVariability\u001b[1;34m(N, F, ubm, num_speakers, num_Components, n_iter)\u001b[0m\n\u001b[0;32m     19\u001b[0m             \u001b[0mprint\u001b[0m\u001b[1;33m(\u001b[0m\u001b[1;34m\"N[s]\"\u001b[0m\u001b[1;33m,\u001b[0m\u001b[0mN\u001b[0m\u001b[1;33m[\u001b[0m\u001b[0ms\u001b[0m\u001b[1;33m]\u001b[0m\u001b[1;33m.\u001b[0m\u001b[0mshape\u001b[0m\u001b[1;33m)\u001b[0m\u001b[1;33m\u001b[0m\u001b[1;33m\u001b[0m\u001b[0m\n\u001b[0;32m     20\u001b[0m \u001b[1;33m\u001b[0m\u001b[0m\n\u001b[1;32m---> 21\u001b[1;33m             \u001b[0mL\u001b[0m \u001b[1;33m=\u001b[0m \u001b[1;33m(\u001b[0m\u001b[0mI\u001b[0m \u001b[1;33m+\u001b[0m \u001b[0mnp\u001b[0m\u001b[1;33m.\u001b[0m\u001b[0mdot\u001b[0m\u001b[1;33m(\u001b[0m\u001b[0mnp\u001b[0m\u001b[1;33m.\u001b[0m\u001b[0mdot\u001b[0m\u001b[1;33m(\u001b[0m\u001b[0mTinvS\u001b[0m\u001b[1;33m,\u001b[0m\u001b[0mN\u001b[0m\u001b[1;33m[\u001b[0m\u001b[0ms\u001b[0m\u001b[1;33m]\u001b[0m\u001b[1;33m)\u001b[0m\u001b[1;33m,\u001b[0m\u001b[0mT\u001b[0m\u001b[1;33m)\u001b[0m\u001b[1;33m)\u001b[0m\u001b[1;33m\u001b[0m\u001b[1;33m\u001b[0m\u001b[0m\n\u001b[0m\u001b[0;32m     22\u001b[0m             \u001b[0mLinv\u001b[0m\u001b[1;33m[\u001b[0m\u001b[0ms\u001b[0m\u001b[1;33m]\u001b[0m \u001b[1;33m=\u001b[0m \u001b[0mnp\u001b[0m\u001b[1;33m.\u001b[0m\u001b[0mlinalg\u001b[0m\u001b[1;33m.\u001b[0m\u001b[0mpinv\u001b[0m\u001b[1;33m(\u001b[0m\u001b[0mL\u001b[0m\u001b[1;33m)\u001b[0m\u001b[1;33m\u001b[0m\u001b[1;33m\u001b[0m\u001b[0m\n\u001b[0;32m     23\u001b[0m             \u001b[0mEy\u001b[0m\u001b[1;33m[\u001b[0m\u001b[0ms\u001b[0m\u001b[1;33m]\u001b[0m \u001b[1;33m=\u001b[0m \u001b[0mnp\u001b[0m\u001b[1;33m.\u001b[0m\u001b[0mdot\u001b[0m\u001b[1;33m(\u001b[0m\u001b[0mnp\u001b[0m\u001b[1;33m.\u001b[0m\u001b[0mdot\u001b[0m\u001b[1;33m(\u001b[0m\u001b[0mLinv\u001b[0m\u001b[1;33m[\u001b[0m\u001b[0ms\u001b[0m\u001b[1;33m]\u001b[0m\u001b[1;33m,\u001b[0m\u001b[0mTinvS\u001b[0m\u001b[1;33m[\u001b[0m\u001b[0ms\u001b[0m\u001b[1;33m]\u001b[0m\u001b[1;33m)\u001b[0m\u001b[1;33m,\u001b[0m\u001b[1;33m(\u001b[0m\u001b[0mF\u001b[0m\u001b[1;33m[\u001b[0m\u001b[0ms\u001b[0m\u001b[1;33m]\u001b[0m\u001b[1;33m)\u001b[0m\u001b[1;33m)\u001b[0m\u001b[1;33m\u001b[0m\u001b[1;33m\u001b[0m\u001b[0m\n",
      "\u001b[1;32m<__array_function__ internals>\u001b[0m in \u001b[0;36mdot\u001b[1;34m(*args, **kwargs)\u001b[0m\n",
      "\u001b[1;31mMemoryError\u001b[0m: Unable to allocate 246. GiB for an array with shape (787, 13, 64, 64, 787) and data type float64"
     ]
    }
   ],
   "source": [
    "# variability_matrices = {}\n",
    "\n",
    "# for digit in gmm_UBM:\n",
    "num_speakers = Nd_s['0'].shape[0]\n",
    "num_Components = Nd_s['0'].shape[1]\n",
    "variability_matrices['0'] = trainTotalVariability(Nd_s['0'],Fd_s['0'],gmm_UBM['0'],num_speakers,num_Components,n_iter=3)"
   ]
  },
  {
   "cell_type": "code",
   "execution_count": null,
   "metadata": {},
   "outputs": [],
   "source": [
    "sigma = gmm_UBM['0'].precisions_\n",
    "\n",
    "num_speakers = Nd_s['0'].shape[0]\n",
    "num_components = Nd_s['0'].shape[1]\n",
    "\n",
    "T =  np.random.rand(sigma.shape[0],sigma.shape[1])\n",
    "I = np.eye(num_speakers)\n",
    "TinvS = ((T)/sigma).T\n",
    "\n",
    "\n",
    "L =np.dot(TinvS*Nd_s['0'][0],T)\n",
    "Linv = np.linalg.pinv(L)\n",
    "Ey =np.dot(np.dot(Linv,TinvS),(Fd_s['0'][0]))\n",
    "Eyy= Linv[s] + Ey*Ey.T"
   ]
  },
  {
   "cell_type": "code",
   "execution_count": 23,
   "metadata": {},
   "outputs": [],
   "source": [
    "def getI_vector(N,F,T,SigmaInv,t_dim):\n",
    "    \n",
    "    I = np.eye(t_dim);\n",
    "    TSinv = (T.T)*SigmaInv\n",
    "    cov_i = I + ((TSinv*N).dot(T))\n",
    "    V = np.dot(TSinv,F)\n",
    "    ivector = np.dot(np.linalg.pinv(cov_i) ,V)\n",
    "    \n",
    "    return ivector"
   ]
  },
  {
   "cell_type": "code",
   "execution_count": 113,
   "metadata": {},
   "outputs": [
    {
     "data": {
      "text/plain": [
       "(64, 64, 13)"
      ]
     },
     "execution_count": 113,
     "metadata": {},
     "output_type": "execute_result"
    }
   ],
   "source": [
    "gmm_UBM['0'].precisions_.shape\n",
    "array = np.zeros((64,64,13))\n",
    "\n",
    "for i in range(64):\n",
    "    array[i]= gmm_UBM['0'].precisions_\n",
    "\n",
    "array.shape"
   ]
  },
  {
   "cell_type": "code",
   "execution_count": null,
   "metadata": {},
   "outputs": [],
   "source": [
    "speaker_models = {}\n",
    "for s in enroll_features:\n",
    "    sp_digit_model = {}\n",
    "    for d in enroll_features[s]:\n",
    "        \n",
    "        x = enroll_features[s][d]\n",
    "        model = all_digit_UBM[d].predict_proba(x[0])\n",
    "        sp_digit_model[d] = model\n",
    "        \n",
    "        #would save ubm for speaker here:\n",
    "    speaker_models[s] = sp_digit_model\n",
    "\n",
    "\n",
    "        \n",
    "        \n",
    "        "
   ]
  },
  {
   "cell_type": "code",
   "execution_count": null,
   "metadata": {},
   "outputs": [],
   "source": []
  },
  {
   "cell_type": "code",
   "execution_count": null,
   "metadata": {},
   "outputs": [],
   "source": [
    "fakeutterance = ['0','5','6','7','9','3','2']\n",
    "\n",
    "\n",
    "for dig in fakeutterance:\n",
    "    scores ={}\n",
    "    for digit in all_digit_UBM:\n",
    "\n",
    "        model = all_digit_UBM[digit]\n",
    "        score = model.score(test_features['george'][dig][0])\n",
    "        scores[digit] = score\n",
    "    predict = max(scores, key=scores.get)\n",
    "    print(\"Test on true label \", dig,\": predict result label is \", predict)\n",
    "    \n",
    "    \n"
   ]
  },
  {
   "cell_type": "code",
   "execution_count": null,
   "metadata": {},
   "outputs": [],
   "source": [
    "def score(sim,lenOfutterance = 6):\n",
    "    score = np.sum(sim)/lenOfutterance\n",
    "    "
   ]
  },
  {
   "cell_type": "code",
   "execution_count": null,
   "metadata": {},
   "outputs": [],
   "source": [
    "def logLiklihoodRatio(en_iVector, tes_iVector):\n",
    "    sim = "
   ]
  },
  {
   "cell_type": "code",
   "execution_count": null,
   "metadata": {},
   "outputs": [],
   "source": [
    "def cosineSimilarity(en_iVector, tes_iVector):\n",
    "    sim = np.dot(en_iVector, tes_iVector)/(np.linalg.norm(en_iVector)*np.linalg.norm(tes_iVector))\n",
    "    return sim"
   ]
  },
  {
   "cell_type": "code",
   "execution_count": null,
   "metadata": {},
   "outputs": [],
   "source": [
    "def S_w(iVectors,n_u,n_s):\n",
    "    \n",
    "    for s in range(n_s):\n",
    "        w_mus = np.mean(iVectors[s],axis = 1)\n",
    "        for i in range(n_u):\n",
    "            (iVectors[s][i] - w_mus)*(iVectors[s][i] - w_mus).T\n",
    "\n",
    "def S_b(iVectors,n_u,n_s):\n",
    "    w_mu = np.mean(iVectors,axis = 1)\n",
    "    for s in range(n_s):\n",
    "        w_mus = np.sum(iVectors[s],axis = 1)\n",
    "        (iVectors[s] - w_mu)*(iVectors[s] - w_mu).T"
   ]
  },
  {
   "cell_type": "code",
   "execution_count": null,
   "metadata": {},
   "outputs": [],
   "source": [
    "def LDA(W,S_b,S_w,S_u):\n",
    "    #i vectir per speaker\n",
    "    # u utterance per speaker\n",
    "    # projection matrix as I\n",
    "    #get s_w and s_b\n",
    "    #solve eigen equation and multiply by i_vector\n",
    "    #multiply by projection matrix\n",
    "    return J"
   ]
  },
  {
   "cell_type": "code",
   "execution_count": null,
   "metadata": {},
   "outputs": [],
   "source": [
    "def WCCN():\n",
    "    \n",
    "\n"
   ]
  }
 ],
 "metadata": {
  "kernelspec": {
   "display_name": "Python 3",
   "language": "python",
   "name": "python3"
  },
  "language_info": {
   "codemirror_mode": {
    "name": "ipython",
    "version": 3
   },
   "file_extension": ".py",
   "mimetype": "text/x-python",
   "name": "python",
   "nbconvert_exporter": "python",
   "pygments_lexer": "ipython3",
   "version": "3.7.9"
  }
 },
 "nbformat": 4,
 "nbformat_minor": 4
}
