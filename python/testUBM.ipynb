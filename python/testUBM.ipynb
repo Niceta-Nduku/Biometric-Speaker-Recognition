{
 "cells": [
  {
   "cell_type": "code",
   "execution_count": 1,
   "metadata": {
    "scrolled": true
   },
   "outputs": [],
   "source": [
    "import os\n",
    "import argparse\n",
    "import numpy as np\n",
    "from scipy.io import wavfile\n",
    "import features as mfcc\n",
    "from hmmlearn import hmm\n",
    "import sklearn.mixture as skm"
   ]
  },
  {
   "cell_type": "code",
   "execution_count": 7,
   "metadata": {},
   "outputs": [],
   "source": [
    "def loadtrainingfeatures(input_folder,start=0,end=4):\n",
    "\n",
    "    digit_features = {}\n",
    "\n",
    "    for dirname in os.listdir(input_folder):\n",
    "\n",
    "            digit_folder = os.path.join(input_folder,dirname)\n",
    "\n",
    "            if not os.path.isdir(digit_folder):\n",
    "                continue\n",
    "\n",
    "            all_speaker_features  = []\n",
    "\n",
    "            for speaker in os.listdir(digit_folder):\n",
    "\n",
    "                speaker_folder =  os.path.join(digit_folder,speaker)\n",
    "\n",
    "\n",
    "                features = np.asarray(())\n",
    "\n",
    "                for filename in [x for x in os.listdir(speaker_folder) if x.endswith('.wav')][:end+1]:\n",
    "\n",
    "                    filepath = os.path.join(speaker_folder,filename)\n",
    "                    sampling_rate, audio_signal = wavfile.read(filepath)\n",
    "\n",
    "                    feat = mfcc.getMFCC(audio_signal,sampling_rate)\n",
    "\n",
    "                    if features.size == 0:\n",
    "                        features = feat\n",
    "                    else:\n",
    "                        features = np.vstack((features, feat))\n",
    "\n",
    "                all_speaker_features.append(features)\n",
    "\n",
    "            digit_features[dirname] = all_speaker_features\n",
    "    return digit_features"
   ]
  },
  {
   "cell_type": "code",
   "execution_count": 8,
   "metadata": {},
   "outputs": [],
   "source": [
    "def loadTestData(test_folder, start =0, end= 5):\n",
    "    speakers_data = {}\n",
    "\n",
    "    for dirname in os.listdir(test_folder):\n",
    "\n",
    "            speaker_folder = os.path.join(test_folder,dirname)\n",
    "            \n",
    "            speaker_features = {}\n",
    "\n",
    "            if not os.path.isdir(speaker_folder):\n",
    "                continue\n",
    "\n",
    "            for digit in os.listdir(speaker_folder):\n",
    "\n",
    "                digit_folder =  os.path.join(speaker_folder,digit)\n",
    "                \n",
    "                digit_features = []\n",
    "\n",
    "                features = np.asarray(())\n",
    "\n",
    "                for filename in [x for x in os.listdir(digit_folder) if x.endswith('.wav')][:5]:\n",
    "\n",
    "                    filepath = os.path.join(digit_folder,filename)\n",
    "                    sampling_rate, audio_signal = wavfile.read(filepath)\n",
    "                    \n",
    "\n",
    "                    feat = mfcc.getMFCC(audio_signal,sampling_rate)\n",
    "\n",
    "                    if features.size == 0:\n",
    "                        features = feat\n",
    "                    else:\n",
    "                        features = np.vstack((features, feat))\n",
    "\n",
    "                digit_features.append(features)\n",
    "                speaker_features[digit] = digit_features\n",
    "            speakers_data[dirname] = speaker_features\n",
    "    return speakers_data"
   ]
  },
  {
   "cell_type": "code",
   "execution_count": 9,
   "metadata": {},
   "outputs": [],
   "source": [
    "train_folder = \"../free-digit-recordings/train_folder\"\n",
    "test_folder = \"../free-digit-recordings/test_folder\"\n",
    "digit_features = loadtrainingfeatures(train_folder)\n",
    "enroll_features = loadTestData(test_folder,start=7,end=12)\n",
    "test_features = loadTestData(test_folder,start=26,end=27)"
   ]
  },
  {
   "cell_type": "code",
   "execution_count": null,
   "metadata": {},
   "outputs": [],
   "source": []
  },
  {
   "cell_type": "code",
   "execution_count": 37,
   "metadata": {},
   "outputs": [
    {
     "name": "stderr",
     "output_type": "stream",
     "text": [
      "Even though the 'startprob_' attribute is set, it will be overwritten during initialization because 'init_params' contains 's'\n",
      "Even though the 'transmat_' attribute is set, it will be overwritten during initialization because 'init_params' contains 't'\n",
      "Even though the 'weights_' attribute is set, it will be overwritten during initialization because 'init_params' contains 'w'\n",
      "Even though the 'means_' attribute is set, it will be overwritten during initialization because 'init_params' contains 'm'\n",
      "Even though the 'covars_' attribute is set, it will be overwritten during initialization because 'init_params' contains 'c'\n",
      "Even though the 'startprob_' attribute is set, it will be overwritten during initialization because 'init_params' contains 's'\n",
      "Even though the 'transmat_' attribute is set, it will be overwritten during initialization because 'init_params' contains 't'\n",
      "Even though the 'weights_' attribute is set, it will be overwritten during initialization because 'init_params' contains 'w'\n",
      "Even though the 'means_' attribute is set, it will be overwritten during initialization because 'init_params' contains 'm'\n",
      "Even though the 'covars_' attribute is set, it will be overwritten during initialization because 'init_params' contains 'c'\n",
      "Even though the 'startprob_' attribute is set, it will be overwritten during initialization because 'init_params' contains 's'\n",
      "Even though the 'transmat_' attribute is set, it will be overwritten during initialization because 'init_params' contains 't'\n",
      "Even though the 'weights_' attribute is set, it will be overwritten during initialization because 'init_params' contains 'w'\n",
      "Even though the 'means_' attribute is set, it will be overwritten during initialization because 'init_params' contains 'm'\n",
      "Even though the 'covars_' attribute is set, it will be overwritten during initialization because 'init_params' contains 'c'\n",
      "Even though the 'startprob_' attribute is set, it will be overwritten during initialization because 'init_params' contains 's'\n",
      "Even though the 'transmat_' attribute is set, it will be overwritten during initialization because 'init_params' contains 't'\n",
      "Even though the 'weights_' attribute is set, it will be overwritten during initialization because 'init_params' contains 'w'\n",
      "Even though the 'means_' attribute is set, it will be overwritten during initialization because 'init_params' contains 'm'\n",
      "Even though the 'covars_' attribute is set, it will be overwritten during initialization because 'init_params' contains 'c'\n",
      "Even though the 'startprob_' attribute is set, it will be overwritten during initialization because 'init_params' contains 's'\n",
      "Even though the 'transmat_' attribute is set, it will be overwritten during initialization because 'init_params' contains 't'\n",
      "Even though the 'weights_' attribute is set, it will be overwritten during initialization because 'init_params' contains 'w'\n",
      "Even though the 'means_' attribute is set, it will be overwritten during initialization because 'init_params' contains 'm'\n",
      "Even though the 'covars_' attribute is set, it will be overwritten during initialization because 'init_params' contains 'c'\n",
      "Even though the 'startprob_' attribute is set, it will be overwritten during initialization because 'init_params' contains 's'\n",
      "Even though the 'transmat_' attribute is set, it will be overwritten during initialization because 'init_params' contains 't'\n",
      "Even though the 'weights_' attribute is set, it will be overwritten during initialization because 'init_params' contains 'w'\n",
      "Even though the 'means_' attribute is set, it will be overwritten during initialization because 'init_params' contains 'm'\n",
      "Even though the 'covars_' attribute is set, it will be overwritten during initialization because 'init_params' contains 'c'\n",
      "Even though the 'startprob_' attribute is set, it will be overwritten during initialization because 'init_params' contains 's'\n",
      "Even though the 'transmat_' attribute is set, it will be overwritten during initialization because 'init_params' contains 't'\n",
      "Even though the 'weights_' attribute is set, it will be overwritten during initialization because 'init_params' contains 'w'\n",
      "Even though the 'means_' attribute is set, it will be overwritten during initialization because 'init_params' contains 'm'\n",
      "Even though the 'covars_' attribute is set, it will be overwritten during initialization because 'init_params' contains 'c'\n",
      "Even though the 'startprob_' attribute is set, it will be overwritten during initialization because 'init_params' contains 's'\n",
      "Even though the 'transmat_' attribute is set, it will be overwritten during initialization because 'init_params' contains 't'\n",
      "Even though the 'weights_' attribute is set, it will be overwritten during initialization because 'init_params' contains 'w'\n",
      "Even though the 'means_' attribute is set, it will be overwritten during initialization because 'init_params' contains 'm'\n",
      "Even though the 'covars_' attribute is set, it will be overwritten during initialization because 'init_params' contains 'c'\n",
      "Even though the 'startprob_' attribute is set, it will be overwritten during initialization because 'init_params' contains 's'\n",
      "Even though the 'transmat_' attribute is set, it will be overwritten during initialization because 'init_params' contains 't'\n",
      "Even though the 'weights_' attribute is set, it will be overwritten during initialization because 'init_params' contains 'w'\n",
      "Even though the 'means_' attribute is set, it will be overwritten during initialization because 'init_params' contains 'm'\n",
      "Even though the 'covars_' attribute is set, it will be overwritten during initialization because 'init_params' contains 'c'\n",
      "Even though the 'startprob_' attribute is set, it will be overwritten during initialization because 'init_params' contains 's'\n",
      "Even though the 'transmat_' attribute is set, it will be overwritten during initialization because 'init_params' contains 't'\n",
      "Even though the 'weights_' attribute is set, it will be overwritten during initialization because 'init_params' contains 'w'\n",
      "Even though the 'means_' attribute is set, it will be overwritten during initialization because 'init_params' contains 'm'\n",
      "Even though the 'covars_' attribute is set, it will be overwritten during initialization because 'init_params' contains 'c'\n",
      "Even though the 'startprob_' attribute is set, it will be overwritten during initialization because 'init_params' contains 's'\n",
      "Even though the 'transmat_' attribute is set, it will be overwritten during initialization because 'init_params' contains 't'\n",
      "Even though the 'weights_' attribute is set, it will be overwritten during initialization because 'init_params' contains 'w'\n",
      "Even though the 'means_' attribute is set, it will be overwritten during initialization because 'init_params' contains 'm'\n",
      "Even though the 'covars_' attribute is set, it will be overwritten during initialization because 'init_params' contains 'c'\n",
      "Even though the 'startprob_' attribute is set, it will be overwritten during initialization because 'init_params' contains 's'\n",
      "Even though the 'transmat_' attribute is set, it will be overwritten during initialization because 'init_params' contains 't'\n",
      "Even though the 'weights_' attribute is set, it will be overwritten during initialization because 'init_params' contains 'w'\n",
      "Even though the 'means_' attribute is set, it will be overwritten during initialization because 'init_params' contains 'm'\n",
      "Even though the 'covars_' attribute is set, it will be overwritten during initialization because 'init_params' contains 'c'\n",
      "Even though the 'startprob_' attribute is set, it will be overwritten during initialization because 'init_params' contains 's'\n",
      "Even though the 'transmat_' attribute is set, it will be overwritten during initialization because 'init_params' contains 't'\n",
      "Even though the 'weights_' attribute is set, it will be overwritten during initialization because 'init_params' contains 'w'\n",
      "Even though the 'means_' attribute is set, it will be overwritten during initialization because 'init_params' contains 'm'\n",
      "Even though the 'covars_' attribute is set, it will be overwritten during initialization because 'init_params' contains 'c'\n",
      "Even though the 'startprob_' attribute is set, it will be overwritten during initialization because 'init_params' contains 's'\n"
     ]
    },
    {
     "name": "stderr",
     "output_type": "stream",
     "text": [
      "Even though the 'transmat_' attribute is set, it will be overwritten during initialization because 'init_params' contains 't'\n",
      "Even though the 'weights_' attribute is set, it will be overwritten during initialization because 'init_params' contains 'w'\n",
      "Even though the 'means_' attribute is set, it will be overwritten during initialization because 'init_params' contains 'm'\n",
      "Even though the 'covars_' attribute is set, it will be overwritten during initialization because 'init_params' contains 'c'\n",
      "Even though the 'startprob_' attribute is set, it will be overwritten during initialization because 'init_params' contains 's'\n",
      "Even though the 'transmat_' attribute is set, it will be overwritten during initialization because 'init_params' contains 't'\n",
      "Even though the 'weights_' attribute is set, it will be overwritten during initialization because 'init_params' contains 'w'\n",
      "Even though the 'means_' attribute is set, it will be overwritten during initialization because 'init_params' contains 'm'\n",
      "Even though the 'covars_' attribute is set, it will be overwritten during initialization because 'init_params' contains 'c'\n",
      "Even though the 'startprob_' attribute is set, it will be overwritten during initialization because 'init_params' contains 's'\n",
      "Even though the 'transmat_' attribute is set, it will be overwritten during initialization because 'init_params' contains 't'\n",
      "Even though the 'weights_' attribute is set, it will be overwritten during initialization because 'init_params' contains 'w'\n",
      "Even though the 'means_' attribute is set, it will be overwritten during initialization because 'init_params' contains 'm'\n",
      "Even though the 'covars_' attribute is set, it will be overwritten during initialization because 'init_params' contains 'c'\n",
      "Even though the 'startprob_' attribute is set, it will be overwritten during initialization because 'init_params' contains 's'\n",
      "Even though the 'transmat_' attribute is set, it will be overwritten during initialization because 'init_params' contains 't'\n",
      "Even though the 'weights_' attribute is set, it will be overwritten during initialization because 'init_params' contains 'w'\n",
      "Even though the 'means_' attribute is set, it will be overwritten during initialization because 'init_params' contains 'm'\n",
      "Even though the 'covars_' attribute is set, it will be overwritten during initialization because 'init_params' contains 'c'\n",
      "Even though the 'startprob_' attribute is set, it will be overwritten during initialization because 'init_params' contains 's'\n",
      "Even though the 'transmat_' attribute is set, it will be overwritten during initialization because 'init_params' contains 't'\n",
      "Even though the 'weights_' attribute is set, it will be overwritten during initialization because 'init_params' contains 'w'\n",
      "Even though the 'means_' attribute is set, it will be overwritten during initialization because 'init_params' contains 'm'\n",
      "Even though the 'covars_' attribute is set, it will be overwritten during initialization because 'init_params' contains 'c'\n",
      "Even though the 'startprob_' attribute is set, it will be overwritten during initialization because 'init_params' contains 's'\n",
      "Even though the 'transmat_' attribute is set, it will be overwritten during initialization because 'init_params' contains 't'\n",
      "Even though the 'weights_' attribute is set, it will be overwritten during initialization because 'init_params' contains 'w'\n",
      "Even though the 'means_' attribute is set, it will be overwritten during initialization because 'init_params' contains 'm'\n",
      "Even though the 'covars_' attribute is set, it will be overwritten during initialization because 'init_params' contains 'c'\n",
      "Even though the 'startprob_' attribute is set, it will be overwritten during initialization because 'init_params' contains 's'\n",
      "Even though the 'transmat_' attribute is set, it will be overwritten during initialization because 'init_params' contains 't'\n",
      "Even though the 'weights_' attribute is set, it will be overwritten during initialization because 'init_params' contains 'w'\n",
      "Even though the 'means_' attribute is set, it will be overwritten during initialization because 'init_params' contains 'm'\n",
      "Even though the 'covars_' attribute is set, it will be overwritten during initialization because 'init_params' contains 'c'\n",
      "Even though the 'startprob_' attribute is set, it will be overwritten during initialization because 'init_params' contains 's'\n",
      "Even though the 'transmat_' attribute is set, it will be overwritten during initialization because 'init_params' contains 't'\n",
      "Even though the 'weights_' attribute is set, it will be overwritten during initialization because 'init_params' contains 'w'\n",
      "Even though the 'means_' attribute is set, it will be overwritten during initialization because 'init_params' contains 'm'\n",
      "Even though the 'covars_' attribute is set, it will be overwritten during initialization because 'init_params' contains 'c'\n",
      "Even though the 'startprob_' attribute is set, it will be overwritten during initialization because 'init_params' contains 's'\n",
      "Even though the 'transmat_' attribute is set, it will be overwritten during initialization because 'init_params' contains 't'\n",
      "Even though the 'weights_' attribute is set, it will be overwritten during initialization because 'init_params' contains 'w'\n",
      "Even though the 'means_' attribute is set, it will be overwritten during initialization because 'init_params' contains 'm'\n",
      "Even though the 'covars_' attribute is set, it will be overwritten during initialization because 'init_params' contains 'c'\n",
      "Even though the 'startprob_' attribute is set, it will be overwritten during initialization because 'init_params' contains 's'\n",
      "Even though the 'transmat_' attribute is set, it will be overwritten during initialization because 'init_params' contains 't'\n",
      "Even though the 'weights_' attribute is set, it will be overwritten during initialization because 'init_params' contains 'w'\n",
      "Even though the 'means_' attribute is set, it will be overwritten during initialization because 'init_params' contains 'm'\n",
      "Even though the 'covars_' attribute is set, it will be overwritten during initialization because 'init_params' contains 'c'\n",
      "Even though the 'startprob_' attribute is set, it will be overwritten during initialization because 'init_params' contains 's'\n",
      "Even though the 'transmat_' attribute is set, it will be overwritten during initialization because 'init_params' contains 't'\n",
      "Even though the 'weights_' attribute is set, it will be overwritten during initialization because 'init_params' contains 'w'\n",
      "Even though the 'means_' attribute is set, it will be overwritten during initialization because 'init_params' contains 'm'\n",
      "Even though the 'covars_' attribute is set, it will be overwritten during initialization because 'init_params' contains 'c'\n",
      "Even though the 'startprob_' attribute is set, it will be overwritten during initialization because 'init_params' contains 's'\n",
      "Even though the 'transmat_' attribute is set, it will be overwritten during initialization because 'init_params' contains 't'\n",
      "Even though the 'weights_' attribute is set, it will be overwritten during initialization because 'init_params' contains 'w'\n",
      "Even though the 'means_' attribute is set, it will be overwritten during initialization because 'init_params' contains 'm'\n",
      "Even though the 'covars_' attribute is set, it will be overwritten during initialization because 'init_params' contains 'c'\n",
      "Even though the 'startprob_' attribute is set, it will be overwritten during initialization because 'init_params' contains 's'\n",
      "Even though the 'transmat_' attribute is set, it will be overwritten during initialization because 'init_params' contains 't'\n",
      "Even though the 'weights_' attribute is set, it will be overwritten during initialization because 'init_params' contains 'w'\n",
      "Even though the 'means_' attribute is set, it will be overwritten during initialization because 'init_params' contains 'm'\n",
      "Even though the 'covars_' attribute is set, it will be overwritten during initialization because 'init_params' contains 'c'\n",
      "Even though the 'startprob_' attribute is set, it will be overwritten during initialization because 'init_params' contains 's'\n",
      "Even though the 'transmat_' attribute is set, it will be overwritten during initialization because 'init_params' contains 't'\n"
     ]
    },
    {
     "name": "stderr",
     "output_type": "stream",
     "text": [
      "Even though the 'weights_' attribute is set, it will be overwritten during initialization because 'init_params' contains 'w'\n",
      "Even though the 'means_' attribute is set, it will be overwritten during initialization because 'init_params' contains 'm'\n",
      "Even though the 'covars_' attribute is set, it will be overwritten during initialization because 'init_params' contains 'c'\n",
      "Even though the 'startprob_' attribute is set, it will be overwritten during initialization because 'init_params' contains 's'\n",
      "Even though the 'transmat_' attribute is set, it will be overwritten during initialization because 'init_params' contains 't'\n",
      "Even though the 'weights_' attribute is set, it will be overwritten during initialization because 'init_params' contains 'w'\n",
      "Even though the 'means_' attribute is set, it will be overwritten during initialization because 'init_params' contains 'm'\n",
      "Even though the 'covars_' attribute is set, it will be overwritten during initialization because 'init_params' contains 'c'\n",
      "Even though the 'startprob_' attribute is set, it will be overwritten during initialization because 'init_params' contains 's'\n",
      "Even though the 'transmat_' attribute is set, it will be overwritten during initialization because 'init_params' contains 't'\n",
      "Even though the 'weights_' attribute is set, it will be overwritten during initialization because 'init_params' contains 'w'\n",
      "Even though the 'means_' attribute is set, it will be overwritten during initialization because 'init_params' contains 'm'\n",
      "Even though the 'covars_' attribute is set, it will be overwritten during initialization because 'init_params' contains 'c'\n",
      "Even though the 'startprob_' attribute is set, it will be overwritten during initialization because 'init_params' contains 's'\n",
      "Even though the 'transmat_' attribute is set, it will be overwritten during initialization because 'init_params' contains 't'\n",
      "Even though the 'weights_' attribute is set, it will be overwritten during initialization because 'init_params' contains 'w'\n",
      "Even though the 'means_' attribute is set, it will be overwritten during initialization because 'init_params' contains 'm'\n",
      "Even though the 'covars_' attribute is set, it will be overwritten during initialization because 'init_params' contains 'c'\n"
     ]
    }
   ],
   "source": [
    "all_digit_UBM = {}\n",
    "\n",
    "for digit in digit_features:\n",
    "    digit_hmm = hmm.GMMHMM(n_components=8, n_mix = 5, n_iter=100, covariance_type='diag')\n",
    "#     digit_gmms = []\n",
    "#     for speaker in digit_features[digit]:\n",
    "#         speaker_gmm = skm.GaussianMixture(n_components=8,covariance_type='diag')\n",
    "#         speaker_gmm.fit(speaker)\n",
    "#         digit_gmms.append(speaker_gmm)\n",
    "    \n",
    "#     digit_hmm.gmm_ = digit_gmms\n",
    "    \n",
    "    for speaker in digit_features[digit]:\n",
    "        digit_hmm.fit(speaker)\n",
    "    all_digit_UBM[digit] = digit_hmm\n",
    "        "
   ]
  },
  {
   "cell_type": "code",
   "execution_count": null,
   "metadata": {},
   "outputs": [],
   "source": [
    "all"
   ]
  },
  {
   "cell_type": "code",
   "execution_count": 38,
   "metadata": {},
   "outputs": [],
   "source": [
    "speaker_models = {}\n",
    "for s in enroll_features:\n",
    "    sp_digit_model = {}\n",
    "    for d in enroll_features[s]:\n",
    "        \n",
    "        x = enroll_features[s][d]\n",
    "        model = all_digit_UBM[d].predict_proba(x[0])\n",
    "        sp_digit_model[d] = model\n",
    "        \n",
    "        #would save ubm for speaker here:\n",
    "    speaker_models[s] = sp_digit_model\n",
    "\n",
    "\n",
    "        \n",
    "        \n",
    "        "
   ]
  },
  {
   "cell_type": "code",
   "execution_count": 40,
   "metadata": {},
   "outputs": [
    {
     "data": {
      "text/plain": [
       "(255, 8)"
      ]
     },
     "execution_count": 40,
     "metadata": {},
     "output_type": "execute_result"
    }
   ],
   "source": [
    "speaker_models['george']['0'].cov\n"
   ]
  },
  {
   "cell_type": "code",
   "execution_count": 61,
   "metadata": {},
   "outputs": [],
   "source": [
    "import pickle\n",
    "with open(\"filename.pkl\", \"wb\") as file: pickle.dump(all_digit_UBM, file)\n",
    "with open(\"filename.pkl\", \"rb\") as file: pickle.load(file)"
   ]
  },
  {
   "cell_type": "code",
   "execution_count": null,
   "metadata": {},
   "outputs": [],
   "source": [
    "fakeutterance = ['0','5','6','7','9']\n",
    "\n",
    "\n",
    "for dig in fakeutterance:\n",
    "    scores ={}\n",
    "    for digit in all_digit_UBM:\n",
    "\n",
    "        model = all_digit_UBM[digit]\n",
    "        score = model.score(test_features['george'][dig])\n",
    "        scores[digit] = score\n",
    "    predict = max(scores, key=scores.get)\n",
    "    print(\"Test on true label \", dig,\": predict result label is \", predict)\n",
    "    \n",
    "    \n"
   ]
  },
  {
   "cell_type": "code",
   "execution_count": null,
   "metadata": {},
   "outputs": [],
   "source": [
    "def getI_vector(N,F,C,T,t_dim):\n",
    "    \n",
    "    I = np.eye(t_dim);\n",
    "    B =  np.dot(np.linalg.pinv(T),S)    \n",
    "    cov_i = I + ((B*N).dot(T))\n",
    "    V = np.dot(B,F)\n",
    "    ivector = np.dot(np.linalg.pinv(cov_i) ,V)\n",
    "    return ivector"
   ]
  },
  {
   "cell_type": "code",
   "execution_count": null,
   "metadata": {},
   "outputs": [],
   "source": [
    "def score(sim,lenOfutterance = 6):\n",
    "    score = np.sum(sum)/lenOfutterance\n",
    "    "
   ]
  },
  {
   "cell_type": "code",
   "execution_count": null,
   "metadata": {},
   "outputs": [],
   "source": [
    "def logLiklihoodRatio():"
   ]
  },
  {
   "cell_type": "code",
   "execution_count": null,
   "metadata": {},
   "outputs": [],
   "source": [
    "def cosineSimilarity():"
   ]
  },
  {
   "cell_type": "code",
   "execution_count": null,
   "metadata": {},
   "outputs": [],
   "source": [
    "def WCC():"
   ]
  },
  {
   "cell_type": "code",
   "execution_count": null,
   "metadata": {},
   "outputs": [],
   "source": [
    "def getN_F_stats(model, features):\n",
    "    \n",
    "    n_samples = \n",
    "    \n",
    "    N = np.sum(model)\n",
    "    "
   ]
  },
  {
   "cell_type": "code",
   "execution_count": 58,
   "metadata": {},
   "outputs": [
    {
     "name": "stdout",
     "output_type": "stream",
     "text": [
      "Random string is: 379055\n",
      "Random string is: 105555\n"
     ]
    }
   ],
   "source": [
    "import random\n",
    "\n",
    "def get_digit_string(length):\n",
    "    sample_letters = '0123456789'\n",
    "    result_str = ''.join((random.choice(sample_letters) for i in range(length)))\n",
    "\n",
    "get_digit_string(6)\n",
    "get_digit_string(6)"
   ]
  },
  {
   "cell_type": "code",
   "execution_count": null,
   "metadata": {},
   "outputs": [],
   "source": []
  },
  {
   "cell_type": "code",
   "execution_count": null,
   "metadata": {},
   "outputs": [],
   "source": []
  }
 ],
 "metadata": {
  "kernelspec": {
   "display_name": "Python 3",
   "language": "python",
   "name": "python3"
  },
  "language_info": {
   "codemirror_mode": {
    "name": "ipython",
    "version": 3
   },
   "file_extension": ".py",
   "mimetype": "text/x-python",
   "name": "python",
   "nbconvert_exporter": "python",
   "pygments_lexer": "ipython3",
   "version": "3.7.9"
  }
 },
 "nbformat": 4,
 "nbformat_minor": 4
}
