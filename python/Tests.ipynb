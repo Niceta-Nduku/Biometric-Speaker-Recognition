{
 "cells": [
  {
   "cell_type": "code",
   "execution_count": 1,
   "metadata": {},
   "outputs": [],
   "source": [
    "import os\n",
    "import pickle\n",
    "import time\n",
    "import Validate as verify\n",
    "import enroll as en"
   ]
  },
  {
   "cell_type": "code",
   "execution_count": null,
   "metadata": {},
   "outputs": [],
   "source": [
    "_start = time.process_time()\n",
    "def tic():\n",
    "    global _start\n",
    "    _start = time.process_time()\n",
    "\n",
    "def toc(start):\n",
    "    duration = time.process_time()-_start\n",
    "    print('Time taken: {time}s'.format(time=duration))"
   ]
  },
  {
   "cell_type": "markdown",
   "metadata": {},
   "source": [
    "# Files"
   ]
  },
  {
   "cell_type": "code",
   "execution_count": null,
   "metadata": {},
   "outputs": [],
   "source": [
    "collected_files = pickle.load(open(\"collected_enrollment_data.f\",\"rb\"))\n",
    "free_spoken_files = pickle.load(open(\"free_speech_enrollment_data.f\",\"rb\"))\n",
    "voice_commands_files = pickle.load(open(\"ubm_data.f\",\"rb\"))\n",
    "collected_files = pickle.load(open(\"test_phrases.f\",\"rb\"))\n",
    "noise_test_files = pickle.load(open(\"noisy_phrases.f\",\"rb\"))\n",
    "imposter_test_files = pickle.load(open(\"imposter_phrases.f\",\"rb\"))"
   ]
  },
  {
   "cell_type": "markdown",
   "metadata": {},
   "source": [
    "# Variables "
   ]
  },
  {
   "cell_type": "code",
   "execution_count": null,
   "metadata": {},
   "outputs": [],
   "source": [
    "numOfFeatures= [12,13,19,40]\n",
    "nuOfCoef = [8,32,64,128,256,512]\n"
   ]
  },
  {
   "cell_type": "markdown",
   "metadata": {},
   "source": [
    "# Train UBM"
   ]
  },
  {
   "cell_type": "code",
   "execution_count": null,
   "metadata": {},
   "outputs": [],
   "source": [
    "ubm_model = UBM(num_coef = 64)\n",
    "ubm_model.loadtrainingfeatures(voice_commands_files)\n",
    "final_ubm = ubm_model.getUBM()"
   ]
  },
  {
   "cell_type": "markdown",
   "metadata": {},
   "source": [
    "### Plot UBM Data"
   ]
  },
  {
   "cell_type": "markdown",
   "metadata": {},
   "source": [
    "# Enroll speakers"
   ]
  },
  {
   "cell_type": "code",
   "execution_count": null,
   "metadata": {},
   "outputs": [],
   "source": [
    "\n",
    "    "
   ]
  },
  {
   "cell_type": "markdown",
   "metadata": {},
   "source": [
    "# Verify speakers"
   ]
  },
  {
   "cell_type": "markdown",
   "metadata": {},
   "source": [
    "# confusion Matrix"
   ]
  },
  {
   "cell_type": "markdown",
   "metadata": {},
   "source": [
    "### Plot False Acceptance"
   ]
  },
  {
   "cell_type": "markdown",
   "metadata": {},
   "source": [
    "### DET"
   ]
  }
 ],
 "metadata": {
  "kernelspec": {
   "display_name": "Python 3",
   "language": "python",
   "name": "python3"
  },
  "language_info": {
   "codemirror_mode": {
    "name": "ipython",
    "version": 3
   },
   "file_extension": ".py",
   "mimetype": "text/x-python",
   "name": "python",
   "nbconvert_exporter": "python",
   "pygments_lexer": "ipython3",
   "version": "3.7.9"
  }
 },
 "nbformat": 4,
 "nbformat_minor": 4
}
